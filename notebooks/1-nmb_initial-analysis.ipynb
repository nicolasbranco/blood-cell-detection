{
 "cells": [
  {
   "cell_type": "markdown",
   "metadata": {},
   "source": [
    "# Initial analysis\n",
    "\n",
    "## Executive summary\n",
    "\n",
    "- most important bullet points\n",
    "\n",
    "## More information\n",
    "\n",
    "**1 - first point**\n",
    "\n",
    "xxxx\n",
    "\n",
    "**2 - sencond point**\n",
    "\n",
    "xxxx\n",
    "\n",
    "- xxxx\n",
    "- xxxx\n"
   ]
  },
  {
   "cell_type": "markdown",
   "metadata": {},
   "source": [
    "## imports & configs\n"
   ]
  },
  {
   "cell_type": "code",
   "execution_count": 3,
   "metadata": {},
   "outputs": [
    {
     "name": "stdout",
     "output_type": "stream",
     "text": [
      "The autoreload extension is already loaded. To reload it, use:\n",
      "  %reload_ext autoreload\n"
     ]
    }
   ],
   "source": [
    "#### default imports ####\n",
    "import numpy as np\n",
    "import os\n",
    "import sys\n",
    "import pandas as pd\n",
    "import seaborn as sns\n",
    "import matplotlib.pyplot as plt\n",
    "\n",
    "### specific imports ###\n",
    "import matplotlib.pyplot as plt\n",
    "\n",
    "# forces local code to be reloaded to avoid problems\n",
    "%load_ext autoreload\n",
    "%autoreload 2\n",
    "\n",
    "#### important configs ####\n",
    "# uses seaborn configs for prettier graphs\n",
    "sns.set_theme()\n",
    "# shows thousand separator for values\n",
    "pd.options.display.float_format = '{:,.2f}'.format\n",
    "# enable import from src/\n",
    "sys.path.append('..')  "
   ]
  },
  {
   "cell_type": "markdown",
   "metadata": {},
   "source": [
    "## auxiliar functions\n"
   ]
  },
  {
   "cell_type": "markdown",
   "metadata": {},
   "source": []
  },
  {
   "cell_type": "markdown",
   "metadata": {},
   "source": [
    "# 1 - xxx\n"
   ]
  },
  {
   "cell_type": "code",
   "execution_count": null,
   "metadata": {},
   "outputs": [],
   "source": []
  }
 ],
 "metadata": {
  "kernelspec": {
   "display_name": "bc_detec",
   "language": "python",
   "name": "python3"
  },
  "language_info": {
   "codemirror_mode": {
    "name": "ipython",
    "version": 3
   },
   "file_extension": ".py",
   "mimetype": "text/x-python",
   "name": "python",
   "nbconvert_exporter": "python",
   "pygments_lexer": "ipython3",
   "version": "3.11.8"
  },
  "orig_nbformat": 4
 },
 "nbformat": 4,
 "nbformat_minor": 2
}
